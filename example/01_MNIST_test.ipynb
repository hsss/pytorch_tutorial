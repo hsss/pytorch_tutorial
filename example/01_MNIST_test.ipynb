{
  "nbformat": 4,
  "nbformat_minor": 0,
  "metadata": {
    "colab": {
      "name": "01-MNIST_test.ipynb",
      "version": "0.3.2",
      "provenance": [],
      "include_colab_link": true
    },
    "kernelspec": {
      "name": "python3",
      "display_name": "Python 3"
    },
    "accelerator": "GPU"
  },
  "cells": [
    {
      "cell_type": "markdown",
      "metadata": {
        "id": "view-in-github",
        "colab_type": "text"
      },
      "source": [
        "<a href=\"https://colab.research.google.com/github/hsss/pytorch_tutorial/blob/master/example/01_MNIST_test.ipynb\" target=\"_parent\"><img src=\"https://colab.research.google.com/assets/colab-badge.svg\" alt=\"Open In Colab\"/></a>"
      ]
    },
    {
      "cell_type": "markdown",
      "metadata": {
        "id": "U7ydrzGysUWx",
        "colab_type": "text"
      },
      "source": [
        "# Python tutorial"
      ]
    },
    {
      "cell_type": "code",
      "metadata": {
        "id": "b04SFvQ2UfEV",
        "colab_type": "code",
        "colab": {
          "base_uri": "https://localhost:8080/",
          "height": 52
        },
        "outputId": "62ee8193-efd2-4778-ea5e-1829dc043552"
      },
      "source": [
        "%pylab inline\n",
        "import numpy as np\n",
        "import torch\n",
        "import torch.nn as nn\n",
        "import torch.nn.functional as F\n",
        "import torch.utils.data.dataloader as dataloader\n",
        "import torch.optim as optim\n",
        "\n",
        "from torch.utils.data import TensorDataset\n",
        "from torch.autograd import Variable\n",
        "from torchvision import transforms\n",
        "from torchvision import datasets, transforms\n",
        "\n",
        "SEED = 1\n",
        "\n",
        "# CUDA?\n",
        "cuda = torch.cuda.is_available()\n",
        "print(cuda)\n",
        "\n",
        "# For reproducibility\n",
        "torch.manual_seed(SEED)\n",
        "\n",
        "if cuda:\n",
        "    torch.cuda.manual_seed(SEED)\n",
        "    \n",
        "    \n"
      ],
      "execution_count": 1,
      "outputs": [
        {
          "output_type": "stream",
          "text": [
            "Populating the interactive namespace from numpy and matplotlib\n",
            "True\n"
          ],
          "name": "stdout"
        }
      ]
    },
    {
      "cell_type": "code",
      "metadata": {
        "id": "AQprNhZ3V7e-",
        "colab_type": "code",
        "colab": {}
      },
      "source": [
        "batch_size = 50\n",
        "train_loader = torch.utils.data.DataLoader(\n",
        "        datasets.MNIST('../data', train=True, download=True,\n",
        "                       transform=transforms.Compose([\n",
        "                           transforms.ToTensor(),\n",
        "                           transforms.Normalize((0.1307,), (0.3081,))\n",
        "                       ])),\n",
        "        batch_size=batch_size, shuffle=True)\n",
        "test_loader = torch.utils.data.DataLoader(\n",
        "    datasets.MNIST('../data', train=False, transform=transforms.Compose([\n",
        "                       transforms.ToTensor(),\n",
        "                       transforms.Normalize((0.1307,), (0.3081,))\n",
        "                   ])),\n",
        "    batch_size=batch_size, shuffle=True)"
      ],
      "execution_count": 0,
      "outputs": []
    },
    {
      "cell_type": "code",
      "metadata": {
        "id": "psezaE2tWI8b",
        "colab_type": "code",
        "colab": {}
      },
      "source": [
        "\n",
        "# One hidden Layer NN\n",
        "class Net(nn.Module):\n",
        "    def __init__(self):\n",
        "        super(Net, self).__init__()\n",
        "        self.conv1 = nn.Conv2d(1, 20, 5, 1)\n",
        "        self.conv2 = nn.Conv2d(20, 50, 5, 1)\n",
        "        self.fc1 = nn.Linear(4*4*50, 500)\n",
        "        self.fc2 = nn.Linear(500, 10)\n",
        "\n",
        "    def forward(self, x):\n",
        "        x = F.relu(self.conv1(x))\n",
        "        x = F.max_pool2d(x, 2, 2)\n",
        "        x = F.relu(self.conv2(x))\n",
        "        x = F.max_pool2d(x, 2, 2)\n",
        "        x = x.view(-1, 4*4*50)\n",
        "        x = F.relu(self.fc1(x))\n",
        "        x = self.fc2(x)\n",
        "        return F.log_softmax(x, dim=1) \n",
        "    \n",
        "    \n",
        "model = Net()\n",
        "if cuda:\n",
        "    model.cuda() # CUDA!\n",
        "optimizer = optim.Adam(model.parameters(), lr=1e-3)"
      ],
      "execution_count": 0,
      "outputs": []
    },
    {
      "cell_type": "code",
      "metadata": {
        "id": "V_Nx5bgaWPBy",
        "colab_type": "code",
        "colab": {
          "base_uri": "https://localhost:8080/",
          "height": 1000
        },
        "outputId": "5b4453cd-33eb-437d-d6cc-3bae1da505a1"
      },
      "source": [
        "device = torch.device(\"cuda\" if cuda else \"cpu\")\n",
        "\n",
        "EPOCHS = 5\n",
        "losses = []\n",
        "\n",
        "model.train()\n",
        "\n",
        "    \n",
        "for epoch in range(EPOCHS):\n",
        "    for batch_idx, (data, target) in enumerate(train_loader):\n",
        "        data, target = data.to(device), target.to(device)\n",
        "        optimizer.zero_grad()\n",
        "        output = model(data)\n",
        "        loss = F.nll_loss(output, target)\n",
        "        loss.backward()\n",
        "        optimizer.step()\n",
        "        if batch_idx % 100 == 0:\n",
        "            print('Train Epoch: {} [{}/{} ({:.0f}%)]\\tLoss: {:.6f}'.format(\n",
        "                epoch, batch_idx * len(data), len(train_loader.dataset),\n",
        "                100. * batch_idx / len(train_loader), loss.item()))\n",
        "   "
      ],
      "execution_count": 7,
      "outputs": [
        {
          "output_type": "stream",
          "text": [
            "Train Epoch: 0 [0/60000 (0%)]\tLoss: 2.304605\n",
            "Train Epoch: 0 [5000/60000 (8%)]\tLoss: 0.185979\n",
            "Train Epoch: 0 [10000/60000 (17%)]\tLoss: 0.167006\n",
            "Train Epoch: 0 [15000/60000 (25%)]\tLoss: 0.261411\n",
            "Train Epoch: 0 [20000/60000 (33%)]\tLoss: 0.143425\n",
            "Train Epoch: 0 [25000/60000 (42%)]\tLoss: 0.066002\n",
            "Train Epoch: 0 [30000/60000 (50%)]\tLoss: 0.010686\n",
            "Train Epoch: 0 [35000/60000 (58%)]\tLoss: 0.153066\n",
            "Train Epoch: 0 [40000/60000 (67%)]\tLoss: 0.077370\n",
            "Train Epoch: 0 [45000/60000 (75%)]\tLoss: 0.029421\n",
            "Train Epoch: 0 [50000/60000 (83%)]\tLoss: 0.010437\n",
            "Train Epoch: 0 [55000/60000 (92%)]\tLoss: 0.018421\n",
            "Train Epoch: 1 [0/60000 (0%)]\tLoss: 0.070882\n",
            "Train Epoch: 1 [5000/60000 (8%)]\tLoss: 0.014759\n",
            "Train Epoch: 1 [10000/60000 (17%)]\tLoss: 0.006700\n",
            "Train Epoch: 1 [15000/60000 (25%)]\tLoss: 0.141002\n",
            "Train Epoch: 1 [20000/60000 (33%)]\tLoss: 0.004379\n",
            "Train Epoch: 1 [25000/60000 (42%)]\tLoss: 0.003722\n",
            "Train Epoch: 1 [30000/60000 (50%)]\tLoss: 0.000443\n",
            "Train Epoch: 1 [35000/60000 (58%)]\tLoss: 0.001860\n",
            "Train Epoch: 1 [40000/60000 (67%)]\tLoss: 0.006401\n",
            "Train Epoch: 1 [45000/60000 (75%)]\tLoss: 0.011349\n",
            "Train Epoch: 1 [50000/60000 (83%)]\tLoss: 0.032667\n",
            "Train Epoch: 1 [55000/60000 (92%)]\tLoss: 0.002374\n",
            "Train Epoch: 2 [0/60000 (0%)]\tLoss: 0.001541\n",
            "Train Epoch: 2 [5000/60000 (8%)]\tLoss: 0.008000\n",
            "Train Epoch: 2 [10000/60000 (17%)]\tLoss: 0.076490\n",
            "Train Epoch: 2 [15000/60000 (25%)]\tLoss: 0.003990\n",
            "Train Epoch: 2 [20000/60000 (33%)]\tLoss: 0.005031\n",
            "Train Epoch: 2 [25000/60000 (42%)]\tLoss: 0.073315\n",
            "Train Epoch: 2 [30000/60000 (50%)]\tLoss: 0.001192\n",
            "Train Epoch: 2 [35000/60000 (58%)]\tLoss: 0.011052\n",
            "Train Epoch: 2 [40000/60000 (67%)]\tLoss: 0.006789\n",
            "Train Epoch: 2 [45000/60000 (75%)]\tLoss: 0.003978\n",
            "Train Epoch: 2 [50000/60000 (83%)]\tLoss: 0.040339\n",
            "Train Epoch: 2 [55000/60000 (92%)]\tLoss: 0.007860\n",
            "Train Epoch: 3 [0/60000 (0%)]\tLoss: 0.000304\n",
            "Train Epoch: 3 [5000/60000 (8%)]\tLoss: 0.004484\n",
            "Train Epoch: 3 [10000/60000 (17%)]\tLoss: 0.000233\n",
            "Train Epoch: 3 [15000/60000 (25%)]\tLoss: 0.007854\n",
            "Train Epoch: 3 [20000/60000 (33%)]\tLoss: 0.000782\n",
            "Train Epoch: 3 [25000/60000 (42%)]\tLoss: 0.002917\n",
            "Train Epoch: 3 [30000/60000 (50%)]\tLoss: 0.003823\n",
            "Train Epoch: 3 [35000/60000 (58%)]\tLoss: 0.003163\n",
            "Train Epoch: 3 [40000/60000 (67%)]\tLoss: 0.004253\n",
            "Train Epoch: 3 [45000/60000 (75%)]\tLoss: 0.010553\n",
            "Train Epoch: 3 [50000/60000 (83%)]\tLoss: 0.001997\n",
            "Train Epoch: 3 [55000/60000 (92%)]\tLoss: 0.009219\n",
            "Train Epoch: 4 [0/60000 (0%)]\tLoss: 0.125129\n",
            "Train Epoch: 4 [5000/60000 (8%)]\tLoss: 0.026973\n",
            "Train Epoch: 4 [10000/60000 (17%)]\tLoss: 0.001482\n",
            "Train Epoch: 4 [15000/60000 (25%)]\tLoss: 0.000363\n",
            "Train Epoch: 4 [20000/60000 (33%)]\tLoss: 0.000170\n",
            "Train Epoch: 4 [25000/60000 (42%)]\tLoss: 0.001020\n",
            "Train Epoch: 4 [30000/60000 (50%)]\tLoss: 0.124685\n",
            "Train Epoch: 4 [35000/60000 (58%)]\tLoss: 0.022373\n",
            "Train Epoch: 4 [40000/60000 (67%)]\tLoss: 0.001709\n",
            "Train Epoch: 4 [45000/60000 (75%)]\tLoss: 0.000120\n",
            "Train Epoch: 4 [50000/60000 (83%)]\tLoss: 0.004684\n",
            "Train Epoch: 4 [55000/60000 (92%)]\tLoss: 0.021007\n"
          ],
          "name": "stdout"
        }
      ]
    },
    {
      "cell_type": "code",
      "metadata": {
        "id": "2mCk4zpiXS8r",
        "colab_type": "code",
        "colab": {
          "base_uri": "https://localhost:8080/",
          "height": 70
        },
        "outputId": "712edf59-bc02-4b99-bff4-417ad0ee2457"
      },
      "source": [
        "model.eval()\n",
        "test_loss = 0\n",
        "correct = 0\n",
        "with torch.no_grad():\n",
        "    for data, target in test_loader:\n",
        "        data, target = data.to(device), target.to(device)\n",
        "        output = model(data)\n",
        "        test_loss += F.nll_loss(output, target, reduction='sum').item() # sum up batch loss\n",
        "        pred = output.argmax(dim=1, keepdim=True) # get the index of the max log-probability\n",
        "        correct += pred.eq(target.view_as(pred)).sum().item()\n",
        "\n",
        "test_loss /= len(test_loader.dataset)\n",
        "\n",
        "print('\\nTest set: Average loss: {:.4f}, Accuracy: {}/{} ({:.0f}%)\\n'.format(\n",
        "    test_loss, correct, len(test_loader.dataset),\n",
        "    100. * correct / len(test_loader.dataset)))"
      ],
      "execution_count": 8,
      "outputs": [
        {
          "output_type": "stream",
          "text": [
            "\n",
            "Test set: Average loss: 0.0420, Accuracy: 9871/10000 (99%)\n",
            "\n"
          ],
          "name": "stdout"
        }
      ]
    },
    {
      "cell_type": "code",
      "metadata": {
        "id": "QVpEv5N0pdnH",
        "colab_type": "code",
        "colab": {}
      },
      "source": [
        "MNIST_train = datasets.MNIST('../data', train=True, download=True,\n",
        "                       transform=transforms.Compose([\n",
        "                           transforms.ToTensor(),\n",
        "                           transforms.Normalize((0.1307,), (0.3081,))\n",
        "                       ]))"
      ],
      "execution_count": 0,
      "outputs": []
    },
    {
      "cell_type": "code",
      "metadata": {
        "id": "nLKch3Ufp0Q8",
        "colab_type": "code",
        "colab": {
          "base_uri": "https://localhost:8080/",
          "height": 88
        },
        "outputId": "b8b07e22-d8a6-4bc4-d2d5-af630734eee4"
      },
      "source": [
        "print(MNIST_train)"
      ],
      "execution_count": 13,
      "outputs": [
        {
          "output_type": "stream",
          "text": [
            "Dataset MNIST\n",
            "    Number of datapoints: 60000\n",
            "    Root location: ../data\n",
            "    Split: Train\n"
          ],
          "name": "stdout"
        }
      ]
    },
    {
      "cell_type": "code",
      "metadata": {
        "id": "G7eCAq80p_Qw",
        "colab_type": "code",
        "colab": {
          "base_uri": "https://localhost:8080/",
          "height": 286
        },
        "outputId": "9c13eabe-1491-4a10-a87b-8311676555db"
      },
      "source": [
        "example = np.array(MNIST_train.data[0].cpu(), np.float32)\n",
        "plt.imshow(example)"
      ],
      "execution_count": 22,
      "outputs": [
        {
          "output_type": "execute_result",
          "data": {
            "text/plain": [
              "<matplotlib.image.AxesImage at 0x7f161a9c6978>"
            ]
          },
          "metadata": {
            "tags": []
          },
          "execution_count": 22
        },
        {
          "output_type": "display_data",
          "data": {
            "image/png": "[encoded data removed]",
            "text/plain": [
              "<Figure size 432x288 with 1 Axes>"
            ]
          },
          "metadata": {
            "tags": []
          }
        }
      ]
    }
  ]
}