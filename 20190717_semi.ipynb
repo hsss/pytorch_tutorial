{
  "nbformat": 4,
  "nbformat_minor": 0,
  "metadata": {
    "colab": {
      "name": "20190717_semi.ipynb",
      "version": "0.3.2",
      "provenance": [],
      "include_colab_link": true
    },
    "kernelspec": {
      "name": "python3",
      "display_name": "Python 3"
    },
    "accelerator": "GPU"
  },
  "cells": [
    {
      "cell_type": "markdown",
      "metadata": {
        "id": "view-in-github",
        "colab_type": "text"
      },
      "source": [
        "<a href=\"https://colab.research.google.com/github/hsss/pytorch_tutorial/blob/master/20190717_semi.ipynb\" target=\"_parent\"><img src=\"https://colab.research.google.com/assets/colab-badge.svg\" alt=\"Open In Colab\"/></a>"
      ]
    },
    {
      "cell_type": "markdown",
      "metadata": {
        "id": "QFTfN4vW0Q3D",
        "colab_type": "text"
      },
      "source": [
        "# Pytorch tutorial 20190717"
      ]
    },
    {
      "cell_type": "markdown",
      "metadata": {
        "id": "JpKzpj4I0Zps",
        "colab_type": "text"
      },
      "source": [
        "![대체 텍스트](https://docs.google.com/uc?export=download&id=1PGtI-970IU8LD_yk0umiFEfhAcTVpT7-)"
      ]
    },
    {
      "cell_type": "code",
      "metadata": {
        "id": "DMGmQMZ50NKE",
        "colab_type": "code",
        "outputId": "9b861b43-41d9-42db-f74b-1bfeeb3b2f73",
        "colab": {
          "base_uri": "https://localhost:8080/",
          "height": 35
        }
      },
      "source": [
        "import torch\n",
        "\n",
        "print(torch.cuda.is_available())"
      ],
      "execution_count": 1,
      "outputs": [
        {
          "output_type": "stream",
          "text": [
            "True\n"
          ],
          "name": "stdout"
        }
      ]
    },
    {
      "cell_type": "code",
      "metadata": {
        "id": "umX4wYhK1ZPL",
        "colab_type": "code",
        "outputId": "8c595cd6-10c4-473b-a857-65e7cea52a11",
        "colab": {
          "base_uri": "https://localhost:8080/",
          "height": 89
        }
      },
      "source": [
        "x = torch.rand(1, 3)\n",
        "print(x.size())\n",
        "\n",
        "y = torch.rand(3, 1)\n",
        "print(y.size())\n",
        "\n",
        "result = torch.mm(x, y)\n",
        "print(result)\n",
        "print(result.size())"
      ],
      "execution_count": 2,
      "outputs": [
        {
          "output_type": "stream",
          "text": [
            "torch.Size([1, 3])\n",
            "torch.Size([3, 1])\n",
            "tensor([[0.6961]])\n",
            "torch.Size([1, 1])\n"
          ],
          "name": "stdout"
        }
      ]
    },
    {
      "cell_type": "code",
      "metadata": {
        "id": "MWLD-liS1gTV",
        "colab_type": "code",
        "outputId": "28dbacf5-a2db-468a-c755-ce76b76c695c",
        "colab": {
          "base_uri": "https://localhost:8080/",
          "height": 35
        }
      },
      "source": [
        "print(result.device)"
      ],
      "execution_count": 3,
      "outputs": [
        {
          "output_type": "stream",
          "text": [
            "cpu\n"
          ],
          "name": "stdout"
        }
      ]
    },
    {
      "cell_type": "code",
      "metadata": {
        "id": "Aj4qE4Wo10t0",
        "colab_type": "code",
        "outputId": "f7fa900e-7cb0-46a3-cfa5-9f3854f0842c",
        "colab": {
          "base_uri": "https://localhost:8080/",
          "height": 53
        }
      },
      "source": [
        "device = torch.device('cuda')\n",
        "x = x.to(device)\n",
        "y = y.to(device)\n",
        "\n",
        "result = torch.mm(x, y)\n",
        "\n",
        "print(result)\n",
        "print(result.device)"
      ],
      "execution_count": 4,
      "outputs": [
        {
          "output_type": "stream",
          "text": [
            "tensor([[0.6961]], device='cuda:0')\n",
            "cuda:0\n"
          ],
          "name": "stdout"
        }
      ]
    },
    {
      "cell_type": "code",
      "metadata": {
        "id": "J3tMmpyF3G7T",
        "colab_type": "code",
        "outputId": "17093093-38f2-414b-992b-84b4c7d9ce12",
        "colab": {
          "base_uri": "https://localhost:8080/",
          "height": 35
        }
      },
      "source": [
        "%pylab inline\n",
        "import numpy as np\n",
        "import torch\n",
        "import torch.nn as nn\n",
        "import torch.nn.functional as F\n",
        "import torch.utils.data.dataloader as dataloader\n",
        "import torch.optim as optim\n",
        "\n",
        "from torch.utils.data import TensorDataset\n",
        "from torch.autograd import Variable\n",
        "from torchvision import transforms\n",
        "from torchvision import datasets, transforms\n",
        "\n",
        "SEED = 1\n",
        "\n",
        "# For reproducibility\n",
        "torch.manual_seed(SEED)\n",
        "torch.cuda.manual_seed(SEED)"
      ],
      "execution_count": 5,
      "outputs": [
        {
          "output_type": "stream",
          "text": [
            "Populating the interactive namespace from numpy and matplotlib\n"
          ],
          "name": "stdout"
        }
      ]
    },
    {
      "cell_type": "markdown",
      "metadata": {
        "id": "aHP5j40R55kR",
        "colab_type": "text"
      },
      "source": [
        "![대체 텍스트](https://docs.google.com/uc?export=download&id=1RV3KJJGtp3l6mBdT7Wg8f2wkzf5MuCpC)"
      ]
    },
    {
      "cell_type": "markdown",
      "metadata": {
        "id": "01pmFwxh8cWP",
        "colab_type": "text"
      },
      "source": [
        "# dataset code 예시 "
      ]
    },
    {
      "cell_type": "code",
      "metadata": {
        "id": "H2Gs1xmJ6J0K",
        "colab_type": "code",
        "colab": {}
      },
      "source": [
        "class MNIST(data.Dataset):\n",
        "    \"\"\"`MNIST <http://yann.lecun.com/exdb/mnist/>`_ Dataset.\n",
        "\n",
        "    Args:\n",
        "        root (string): Root directory of dataset where ``processed/training.pt``\n",
        "            and  ``processed/test.pt`` exist.\n",
        "        train (bool, optional): If True, creates dataset from ``training.pt``,\n",
        "            otherwise from ``test.pt``.\n",
        "        download (bool, optional): If true, downloads the dataset from the internet and\n",
        "            puts it in root directory. If dataset is already downloaded, it is not\n",
        "            downloaded again.\n",
        "        transform (callable, optional): A function/transform that  takes in an PIL image\n",
        "            and returns a transformed version. E.g, ``transforms.RandomCrop``\n",
        "        target_transform (callable, optional): A function/transform that takes in the\n",
        "            target and transforms it.\n",
        "    \"\"\"\n",
        "    urls = [\n",
        "        'http://yann.lecun.com/exdb/mnist/train-images-idx3-ubyte.gz',\n",
        "        'http://yann.lecun.com/exdb/mnist/train-labels-idx1-ubyte.gz',\n",
        "        'http://yann.lecun.com/exdb/mnist/t10k-images-idx3-ubyte.gz',\n",
        "        'http://yann.lecun.com/exdb/mnist/t10k-labels-idx1-ubyte.gz',\n",
        "    ]\n",
        "    training_file = 'training.pt'\n",
        "    test_file = 'test.pt'\n",
        "    classes = ['0 - zero', '1 - one', '2 - two', '3 - three', '4 - four',\n",
        "               '5 - five', '6 - six', '7 - seven', '8 - eight', '9 - nine']\n",
        "\n",
        "    @property\n",
        "    def train_labels(self):\n",
        "        warnings.warn(\"train_labels has been renamed targets\")\n",
        "        return self.targets\n",
        "\n",
        "    @property\n",
        "    def test_labels(self):\n",
        "        warnings.warn(\"test_labels has been renamed targets\")\n",
        "        return self.targets\n",
        "\n",
        "    @property\n",
        "    def train_data(self):\n",
        "        warnings.warn(\"train_data has been renamed data\")\n",
        "        return self.data\n",
        "\n",
        "    @property\n",
        "    def test_data(self):\n",
        "        warnings.warn(\"test_data has been renamed data\")\n",
        "        return self.data\n",
        "\n",
        "    def __init__(self, root, train=True, transform=None, target_transform=None, download=False):\n",
        "        self.root = os.path.expanduser(root)\n",
        "        self.transform = transform\n",
        "        self.target_transform = target_transform\n",
        "        self.train = train  # training set or test set\n",
        "\n",
        "        if download:\n",
        "            self.download()\n",
        "\n",
        "        if not self._check_exists():\n",
        "            raise RuntimeError('Dataset not found.' +\n",
        "                               ' You can use download=True to download it')\n",
        "\n",
        "        if self.train:\n",
        "            data_file = self.training_file\n",
        "        else:\n",
        "            data_file = self.test_file\n",
        "        self.data, self.targets = torch.load(os.path.join(self.processed_folder, data_file))\n",
        "\n",
        "    def __getitem__(self, index):\n",
        "        \"\"\"\n",
        "        Args:\n",
        "            index (int): Index\n",
        "\n",
        "        Returns:\n",
        "            tuple: (image, target) where target is index of the target class.\n",
        "        \"\"\"\n",
        "        img, target = self.data[index], int(self.targets[index])\n",
        "\n",
        "        # doing this so that it is consistent with all other datasets\n",
        "        # to return a PIL Image\n",
        "        img = Image.fromarray(img.numpy(), mode='L')\n",
        "\n",
        "        if self.transform is not None:\n",
        "            img = self.transform(img)\n",
        "\n",
        "        if self.target_transform is not None:\n",
        "            target = self.target_transform(target)\n",
        "\n",
        "        return img, target\n",
        "\n",
        "    def __len__(self):\n",
        "        return len(self.data)\n",
        "\n",
        "    @property\n",
        "    def raw_folder(self):\n",
        "        return os.path.join(self.root, self.__class__.__name__, 'raw')\n",
        "\n",
        "    @property\n",
        "    def processed_folder(self):\n",
        "        return os.path.join(self.root, self.__class__.__name__, 'processed')\n",
        "\n",
        "    @property\n",
        "    def class_to_idx(self):\n",
        "        return {_class: i for i, _class in enumerate(self.classes)}\n",
        "\n",
        "    def _check_exists(self):\n",
        "        return os.path.exists(os.path.join(self.processed_folder, self.training_file)) and \\\n",
        "            os.path.exists(os.path.join(self.processed_folder, self.test_file))\n",
        "\n",
        "    @staticmethod\n",
        "    def extract_gzip(gzip_path, remove_finished=False):\n",
        "        print('Extracting {}'.format(gzip_path))\n",
        "        with open(gzip_path.replace('.gz', ''), 'wb') as out_f, \\\n",
        "                gzip.GzipFile(gzip_path) as zip_f:\n",
        "            out_f.write(zip_f.read())\n",
        "        if remove_finished:\n",
        "            os.unlink(gzip_path)\n",
        "\n",
        "    def download(self):\n",
        "        \"\"\"Download the MNIST data if it doesn't exist in processed_folder already.\"\"\"\n",
        "\n",
        "        if self._check_exists():\n",
        "            return\n",
        "\n",
        "        makedir_exist_ok(self.raw_folder)\n",
        "        makedir_exist_ok(self.processed_folder)\n",
        "\n",
        "        # download files\n",
        "        for url in self.urls:\n",
        "            filename = url.rpartition('/')[2]\n",
        "            file_path = os.path.join(self.raw_folder, filename)\n",
        "            download_url(url, root=self.raw_folder, filename=filename, md5=None)\n",
        "            self.extract_gzip(gzip_path=file_path, remove_finished=True)\n",
        "\n",
        "        # process and save as torch files\n",
        "        print('Processing...')\n",
        "\n",
        "        training_set = (\n",
        "            read_image_file(os.path.join(self.raw_folder, 'train-images-idx3-ubyte')),\n",
        "            read_label_file(os.path.join(self.raw_folder, 'train-labels-idx1-ubyte'))\n",
        "        )\n",
        "        test_set = (\n",
        "            read_image_file(os.path.join(self.raw_folder, 't10k-images-idx3-ubyte')),\n",
        "            read_label_file(os.path.join(self.raw_folder, 't10k-labels-idx1-ubyte'))\n",
        "        )\n",
        "        with open(os.path.join(self.processed_folder, self.training_file), 'wb') as f:\n",
        "            torch.save(training_set, f)\n",
        "        with open(os.path.join(self.processed_folder, self.test_file), 'wb') as f:\n",
        "            torch.save(test_set, f)\n",
        "\n",
        "        print('Done!')\n",
        "\n",
        "    def __repr__(self):\n",
        "        fmt_str = 'Dataset ' + self.__class__.__name__ + '\\n'\n",
        "        fmt_str += '    Number of datapoints: {}\\n'.format(self.__len__())\n",
        "        tmp = 'train' if self.train is True else 'test'\n",
        "        fmt_str += '    Split: {}\\n'.format(tmp)\n",
        "        fmt_str += '    Root Location: {}\\n'.format(self.root)\n",
        "        tmp = '    Transforms (if any): '\n",
        "        fmt_str += '{0}{1}\\n'.format(tmp, self.transform.__repr__().replace('\\n', '\\n' + ' ' * len(tmp)))\n",
        "        tmp = '    Target Transforms (if any): '\n",
        "        fmt_str += '{0}{1}'.format(tmp, self.target_transform.__repr__().replace('\\n', '\\n' + ' ' * len(tmp)))\n",
        "        return fmt_str"
      ],
      "execution_count": 0,
      "outputs": []
    },
    {
      "cell_type": "markdown",
      "metadata": {
        "id": "nQQq7cxZ8lV_",
        "colab_type": "text"
      },
      "source": [
        "# 예시 종료"
      ]
    },
    {
      "cell_type": "code",
      "metadata": {
        "id": "vCeBsyBe3ah9",
        "colab_type": "code",
        "outputId": "dafaeb19-44e5-41e6-83d7-fb47260b4ab7",
        "colab": {
          "base_uri": "https://localhost:8080/",
          "height": 271
        }
      },
      "source": [
        "MNIST_train = datasets.MNIST('../data', train=True, download=True,\n",
        "                       transform=transforms.Compose([\n",
        "                           transforms.ToTensor(),\n",
        "                           transforms.Normalize((0.1307,), (0.3081,))\n",
        "                       ]))"
      ],
      "execution_count": 6,
      "outputs": [
        {
          "output_type": "stream",
          "text": [
            "\r0it [00:00, ?it/s]"
          ],
          "name": "stderr"
        },
        {
          "output_type": "stream",
          "text": [
            "Downloading http://yann.lecun.com/exdb/mnist/train-images-idx3-ubyte.gz to ../data/MNIST/raw/train-images-idx3-ubyte.gz\n"
          ],
          "name": "stdout"
        },
        {
          "output_type": "stream",
          "text": [
            "9920512it [00:01, 8704261.58it/s]                            \n"
          ],
          "name": "stderr"
        },
        {
          "output_type": "stream",
          "text": [
            "Extracting ../data/MNIST/raw/train-images-idx3-ubyte.gz\n"
          ],
          "name": "stdout"
        },
        {
          "output_type": "stream",
          "text": [
            "  0%|          | 0/28881 [00:00<?, ?it/s]"
          ],
          "name": "stderr"
        },
        {
          "output_type": "stream",
          "text": [
            "Downloading http://yann.lecun.com/exdb/mnist/train-labels-idx1-ubyte.gz to ../data/MNIST/raw/train-labels-idx1-ubyte.gz\n"
          ],
          "name": "stdout"
        },
        {
          "output_type": "stream",
          "text": [
            "32768it [00:00, 133841.04it/s]           \n",
            "  0%|          | 0/1648877 [00:00<?, ?it/s]"
          ],
          "name": "stderr"
        },
        {
          "output_type": "stream",
          "text": [
            "Extracting ../data/MNIST/raw/train-labels-idx1-ubyte.gz\n",
            "Downloading http://yann.lecun.com/exdb/mnist/t10k-images-idx3-ubyte.gz to ../data/MNIST/raw/t10k-images-idx3-ubyte.gz\n"
          ],
          "name": "stdout"
        },
        {
          "output_type": "stream",
          "text": [
            "1654784it [00:00, 2191903.61it/s]                            \n",
            "0it [00:00, ?it/s]"
          ],
          "name": "stderr"
        },
        {
          "output_type": "stream",
          "text": [
            "Extracting ../data/MNIST/raw/t10k-images-idx3-ubyte.gz\n",
            "Downloading http://yann.lecun.com/exdb/mnist/t10k-labels-idx1-ubyte.gz to ../data/MNIST/raw/t10k-labels-idx1-ubyte.gz\n"
          ],
          "name": "stdout"
        },
        {
          "output_type": "stream",
          "text": [
            "8192it [00:00, 50390.60it/s]            \n"
          ],
          "name": "stderr"
        },
        {
          "output_type": "stream",
          "text": [
            "Extracting ../data/MNIST/raw/t10k-labels-idx1-ubyte.gz\n",
            "Processing...\n",
            "Done!\n"
          ],
          "name": "stdout"
        }
      ]
    },
    {
      "cell_type": "code",
      "metadata": {
        "id": "BvU2d1uC3ti5",
        "colab_type": "code",
        "outputId": "dea704c1-f6ea-4304-c311-769803522622",
        "colab": {
          "base_uri": "https://localhost:8080/",
          "height": 324
        }
      },
      "source": [
        "example, label = MNIST_train.__getitem__(15)\n",
        "example = np.array(example, np.float32)[0]\n",
        "\n",
        "print(example.shape)\n",
        "print(label)\n",
        "\n",
        "plt.imshow(example)"
      ],
      "execution_count": 7,
      "outputs": [
        {
          "output_type": "stream",
          "text": [
            "(28, 28)\n",
            "7\n"
          ],
          "name": "stdout"
        },
        {
          "output_type": "execute_result",
          "data": {
            "text/plain": [
              "<matplotlib.image.AxesImage at 0x7f133011a2b0>"
            ]
          },
          "metadata": {
            "tags": []
          },
          "execution_count": 7
        },
        {
          "output_type": "display_data",
          "data": {
            "image/png": "[encoded data removed]",
            "text/plain": [
              "<Figure size 432x288 with 1 Axes>"
            ]
          },
          "metadata": {
            "tags": []
          }
        }
      ]
    },
    {
      "cell_type": "code",
      "metadata": {
        "id": "s1pmGkvU8uLa",
        "colab_type": "code",
        "colab": {}
      },
      "source": [
        "MNIST_test = datasets.MNIST('../data', train=False,\n",
        "                       transform=transforms.Compose([\n",
        "                           transforms.ToTensor(),\n",
        "                           transforms.Normalize((0.1307,), (0.3081,))\n",
        "                       ]))"
      ],
      "execution_count": 0,
      "outputs": []
    },
    {
      "cell_type": "markdown",
      "metadata": {
        "id": "MpER7B1mthwL",
        "colab_type": "text"
      },
      "source": [
        "![대체 텍스트](https://docs.google.com/uc?export=download&id=1HDsCgeMOSqPaVsJ-EuJwMylMsE_FczJ-)"
      ]
    },
    {
      "cell_type": "markdown",
      "metadata": {
        "id": "yGU6Z5Ekv0np",
        "colab_type": "text"
      },
      "source": [
        "![대체 텍스트](https://docs.google.com/uc?export=download&id=1X8rT8qexqO1p55gkTJJO1ce_trmb-EhY)"
      ]
    },
    {
      "cell_type": "markdown",
      "metadata": {
        "id": "NdRpXxr-6OiU",
        "colab_type": "text"
      },
      "source": [
        "![대체 텍스트](https://docs.google.com/uc?export=download&id=1wfnkDWUbm7a4fsn_uSph3csn4OQT9dO1)"
      ]
    },
    {
      "cell_type": "code",
      "metadata": {
        "id": "bvB9_L8L6Y84",
        "colab_type": "code",
        "colab": {}
      },
      "source": [
        "train_loader = torch.utils.data.DataLoader(\n",
        "        MNIST_train,\n",
        "        batch_size=50, shuffle=True, \n",
        "        num_workers=1,\n",
        "\t\t    pin_memory=True,\n",
        "\t\t    drop_last=True)\n",
        "#worker_init_fn=worker_init_fn)\n",
        "\n",
        "test_loader = torch.utils.data.DataLoader(\n",
        "        MNIST_test,\n",
        "        batch_size=50, shuffle=False,\n",
        "        num_workers=1,\n",
        "\t\t    pin_memory=True,\n",
        "\t\t    drop_last=False)\n",
        "\n"
      ],
      "execution_count": 0,
      "outputs": []
    },
    {
      "cell_type": "markdown",
      "metadata": {
        "id": "Brh0taVd7ga1",
        "colab_type": "text"
      },
      "source": [
        "# Network 정의"
      ]
    },
    {
      "cell_type": "code",
      "metadata": {
        "id": "TKicw1iF7j1t",
        "colab_type": "code",
        "colab": {
          "base_uri": "https://localhost:8080/",
          "height": 108
        },
        "outputId": "deb6c8a4-b8f2-4686-85d0-d3a9ece40dc7"
      },
      "source": [
        "# One hidden Layer NN\n",
        "class Net(nn.Module):\n",
        "    def __init__(self):\n",
        "        super(Net, self).__init__()\n",
        "        self.conv1 = nn.Conv2d(1, 20, 5, 1)\n",
        "        self.conv2 = nn.Conv2d(20, 50, 5, 1)\n",
        "        self.fc1 = nn.Linear(4*4*50, 500)\n",
        "        self.fc2 = nn.Linear(500, 10)\n",
        "\n",
        "    def forward(self, x):\n",
        "        x = F.relu(self.conv1(x))\n",
        "        x = F.max_pool2d(x, 2, 2)\n",
        "        x = F.relu(self.conv2(x))\n",
        "        x = F.max_pool2d(x, 2, 2)\n",
        "        \n",
        "        #print(x.size())\n",
        "        #print(x)\n",
        "        \n",
        "        x = x.view(-1, 4*4*50)\n",
        "        x = F.relu(self.fc1(x))\n",
        "        x = self.fc2(x)\n",
        "        return F.log_softmax(x, dim=1) \n",
        "    \n",
        "    \n",
        "model = Net()\n",
        "example, label = MNIST_train.__getitem__(15)\n",
        "example = example.reshape(1, 1, 28, 28)\n",
        "print('===========In-Network')\n",
        "output = model(example)\n",
        "print('===========Out-Network')\n",
        "print(output)\n",
        "print(output.size())\n"
      ],
      "execution_count": 29,
      "outputs": [
        {
          "output_type": "stream",
          "text": [
            "===========In-Network\n",
            "===========Out-Network\n",
            "tensor([[-2.3591, -2.3340, -2.2623, -2.5139, -2.2570, -2.4223, -2.3073, -2.2669,\n",
            "         -2.2763, -2.0848]], grad_fn=<LogSoftmaxBackward>)\n",
            "torch.Size([1, 10])\n"
          ],
          "name": "stdout"
        }
      ]
    },
    {
      "cell_type": "markdown",
      "metadata": {
        "id": "HF5HIQjF955h",
        "colab_type": "text"
      },
      "source": [
        "![대체 텍스트](https://docs.google.com/uc?export=download&id=1HuKKyyCdEPau7mGP877nlp4kwXDMIEH7)"
      ]
    },
    {
      "cell_type": "code",
      "metadata": {
        "id": "OWziM_oq-ApS",
        "colab_type": "code",
        "colab": {
          "base_uri": "https://localhost:8080/",
          "height": 162
        },
        "outputId": "d0929284-de9f-4dc2-b324-2bf01fd051e3"
      },
      "source": [
        "for name, param in model.named_parameters():\n",
        "  print(name)\n",
        "  #print(param)\n",
        "  \n",
        "model.train()\n",
        "model.eval()"
      ],
      "execution_count": 19,
      "outputs": [
        {
          "output_type": "stream",
          "text": [
            "conv1.weight\n",
            "conv1.bias\n",
            "conv2.weight\n",
            "conv2.bias\n",
            "fc1.weight\n",
            "fc1.bias\n",
            "fc2.weight\n",
            "fc2.bias\n"
          ],
          "name": "stdout"
        }
      ]
    },
    {
      "cell_type": "code",
      "metadata": {
        "id": "xRptvifX_Dcy",
        "colab_type": "code",
        "colab": {
          "base_uri": "https://localhost:8080/",
          "height": 53
        },
        "outputId": "6c492a2b-c757-4751-c124-a9c240b3235e"
      },
      "source": [
        "model.to('cuda')\n",
        "\n",
        "example = example.to('cuda')\n",
        "\n",
        "output = model(example)\n",
        "print(output)"
      ],
      "execution_count": 30,
      "outputs": [
        {
          "output_type": "stream",
          "text": [
            "tensor([[-2.3591, -2.3340, -2.2623, -2.5139, -2.2570, -2.4223, -2.3073, -2.2669,\n",
            "         -2.2763, -2.0848]], device='cuda:0', grad_fn=<LogSoftmaxBackward>)\n"
          ],
          "name": "stdout"
        }
      ]
    },
    {
      "cell_type": "code",
      "metadata": {
        "id": "kGmQAMYvBrmp",
        "colab_type": "code",
        "colab": {
          "base_uri": "https://localhost:8080/",
          "height": 289
        },
        "outputId": "a1605ae3-b6ad-4b8c-f8b6-ebd083a8a98e"
      },
      "source": [
        "optimizer = optim.Adam(model.parameters(), lr=1e-3)\n",
        "\n",
        "\n",
        "EPOCHS = 5\n",
        "losses = []\n",
        "\n",
        "model.train()\n",
        "\n",
        "    \n",
        "for epoch in range(EPOCHS):\n",
        "    for batch_idx, (data, target) in enumerate(train_loader):\n",
        "        data, target = data.to('cuda'), target.to('cuda')\n",
        "        \n",
        "        optimizer.zero_grad()\n",
        "        output = model(data)\n",
        "        loss = F.nll_loss(output, target)\n",
        "        loss.backward()\n",
        "        optimizer.step()\n",
        "        \n",
        "        losses.append(loss.item())\n",
        "        if batch_idx % 500 == 0:\n",
        "            print('Train Epoch: {} [{}/{} ({:.0f}%)]\\tLoss: {:.6f}'.format(\n",
        "                epoch, batch_idx * len(data), len(train_loader.dataset),\n",
        "                100. * batch_idx / len(train_loader), loss.item()))\n",
        "\n",
        "            \n",
        "            \n",
        "print('TRAINING DONE!!!!')\n"
      ],
      "execution_count": 32,
      "outputs": [
        {
          "output_type": "stream",
          "text": [
            "Train Epoch: 0 [0/60000 (0%)]\tLoss: 0.000144\n",
            "Train Epoch: 0 [25000/60000 (42%)]\tLoss: 0.038634\n",
            "Train Epoch: 0 [50000/60000 (83%)]\tLoss: 0.001343\n",
            "Train Epoch: 1 [0/60000 (0%)]\tLoss: 0.063566\n",
            "Train Epoch: 1 [25000/60000 (42%)]\tLoss: 0.168720\n",
            "Train Epoch: 1 [50000/60000 (83%)]\tLoss: 0.025827\n",
            "Train Epoch: 2 [0/60000 (0%)]\tLoss: 0.007735\n",
            "Train Epoch: 2 [25000/60000 (42%)]\tLoss: 0.000258\n",
            "Train Epoch: 2 [50000/60000 (83%)]\tLoss: 0.000257\n",
            "Train Epoch: 3 [0/60000 (0%)]\tLoss: 0.009096\n",
            "Train Epoch: 3 [25000/60000 (42%)]\tLoss: 0.001638\n",
            "Train Epoch: 3 [50000/60000 (83%)]\tLoss: 0.000054\n",
            "Train Epoch: 4 [0/60000 (0%)]\tLoss: 0.000378\n",
            "Train Epoch: 4 [25000/60000 (42%)]\tLoss: 0.026494\n",
            "Train Epoch: 4 [50000/60000 (83%)]\tLoss: 0.000231\n"
          ],
          "name": "stdout"
        }
      ]
    },
    {
      "cell_type": "code",
      "metadata": {
        "id": "A3chi1oyDCiI",
        "colab_type": "code",
        "colab": {
          "base_uri": "https://localhost:8080/",
          "height": 287
        },
        "outputId": "0cd3abf8-7877-4cb1-b4ba-6cfe08348b3a"
      },
      "source": [
        "plt.plot(losses)"
      ],
      "execution_count": 33,
      "outputs": [
        {
          "output_type": "execute_result",
          "data": {
            "text/plain": [
              "[<matplotlib.lines.Line2D at 0x7f131d215fd0>]"
            ]
          },
          "metadata": {
            "tags": []
          },
          "execution_count": 33
        },
        {
          "output_type": "display_data",
          "data": {
            "image/png": "[encoded data removed]",
            "text/plain": [
              "<Figure size 432x288 with 1 Axes>"
            ]
          },
          "metadata": {
            "tags": []
          }
        }
      ]
    },
    {
      "cell_type": "code",
      "metadata": {
        "id": "QnQAL6BODT1o",
        "colab_type": "code",
        "colab": {
          "base_uri": "https://localhost:8080/",
          "height": 71
        },
        "outputId": "48fcdaf7-b20a-485c-d36c-1dcfd46a64f9"
      },
      "source": [
        "model.eval()\n",
        "test_loss = 0\n",
        "correct = 0\n",
        "with torch.no_grad():\n",
        "    for data, target in test_loader:\n",
        "        data, target = data.to('cuda'), target.to('cuda')\n",
        "        output = model(data)\n",
        "        test_loss += F.nll_loss(output, target, reduction='sum').item() # sum up batch loss\n",
        "        pred = output.argmax(dim=1, keepdim=True) # get the index of the max log-probability\n",
        "        correct += pred.eq(target.view_as(pred)).sum().item()\n",
        "\n",
        "test_loss /= len(test_loader.dataset)\n",
        "\n",
        "print('\\nTest set: Average loss: {:.4f}, Accuracy: {}/{} ({:.0f}%)\\n'.format(\n",
        "    test_loss, correct, len(test_loader.dataset),\n",
        "    100. * correct / len(test_loader.dataset)))"
      ],
      "execution_count": 34,
      "outputs": [
        {
          "output_type": "stream",
          "text": [
            "\n",
            "Test set: Average loss: 0.0313, Accuracy: 9911/10000 (99%)\n",
            "\n"
          ],
          "name": "stdout"
        }
      ]
    }
  ]
}