import torch

print(torch.cuda.is_available())

x = torch.rand(1, 3)
print(x.size())

y = torch.rand(3, 1)
print(y.size())

print(torch.mm(x, y))